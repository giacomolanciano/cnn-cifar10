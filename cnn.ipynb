{
 "cells": [
  {
   "cell_type": "code",
   "execution_count": 1,
   "metadata": {
    "collapsed": true
   },
   "outputs": [],
   "source": [
    "import tensorflow as tf\n",
    "\n",
    "CIFAR10_CLASSES = 10\n",
    "\n",
    "CONV_LAYER_PARAMS = {\n",
    "    \"filters\": 128,\n",
    "    \"kernel_size\": (5, 5),\n",
    "    \"strides\": 1,\n",
    "    \"activation\": tf.nn.relu,\n",
    "    \"padding\": 'same'\n",
    "}\n",
    "\n",
    "MAXPOOL_LAYER_PARAMS = {\n",
    "    \"pool_size\": (2, 2),\n",
    "    \"strides\": 2,\n",
    "    \"padding\": 'same'\n",
    "}\n",
    "\n",
    "DENSE_LAYER_PARAMS = {\n",
    "    \"units\": 4096,\n",
    "    \"activation\": tf.nn.relu\n",
    "}"
   ]
  },
  {
   "cell_type": "code",
   "execution_count": 2,
   "metadata": {
    "collapsed": false
   },
   "outputs": [],
   "source": [
    "global_step = tf.Variable(initial_value=0, name='global_step', trainable=False)\n",
    "X = tf.placeholder(tf.float32, [None, 32, 32, 3], name='input')\n",
    "y = tf.placeholder(tf.float32, [None, 10], name='labels')\n",
    "keep_prob = tf.placeholder(tf.float32)"
   ]
  },
  {
   "cell_type": "code",
   "execution_count": 3,
   "metadata": {
    "collapsed": false
   },
   "outputs": [],
   "source": [
    "# convolutional layers\n",
    "conv1 = tf.layers.conv2d(X, name='conv1', **CONV_LAYER_PARAMS)\n",
    "maxpool1 = tf.layers.max_pooling2d(conv1, name='maxpool1', **MAXPOOL_LAYER_PARAMS)\n",
    "\n",
    "conv2 = tf.layers.conv2d(maxpool1, name='conv2', **CONV_LAYER_PARAMS)\n",
    "maxpool2 = tf.layers.max_pooling2d(conv2, name='maxpool2', **MAXPOOL_LAYER_PARAMS)\n",
    "\n",
    "conv3 = tf.layers.conv2d(maxpool2, name='conv3', **CONV_LAYER_PARAMS)\n",
    "maxpool3 = tf.layers.max_pooling2d(conv3, name='maxpool3', **MAXPOOL_LAYER_PARAMS)\n",
    "\n",
    "conv4 = tf.layers.conv2d(maxpool3, name='conv4', **CONV_LAYER_PARAMS)\n",
    "maxpool4 = tf.layers.max_pooling2d(conv4, name='maxpool4', **MAXPOOL_LAYER_PARAMS)\n",
    "\n",
    "conv5 = tf.layers.conv2d(maxpool4, name='conv5', **CONV_LAYER_PARAMS)\n",
    "maxpool5 = tf.layers.max_pooling2d(conv5, name='maxpool5', **MAXPOOL_LAYER_PARAMS)\n",
    "\n",
    "# fully-connected layers\n",
    "new_shape = [-1, maxpool5.shape[1] * maxpool5.shape[2] * maxpool5.shape[3]]\n",
    "dense1 = tf.layers.dense(tf.reshape(maxpool5, new_shape), name='dense1', **DENSE_LAYER_PARAMS)\n",
    "dense1_dropout = tf.nn.dropout(dense1, name='dense1_dropout', keep_prob=keep_prob)\n",
    "\n",
    "dense2 = tf.layers.dense(dense1_dropout, name='dense2', **DENSE_LAYER_PARAMS)\n",
    "dense2_dropout = tf.nn.dropout(dense2, name='dense2_dropout', keep_prob=keep_prob)\n",
    "\n",
    "output = tf.layers.dense(dense2_dropout, name='output', units=CIFAR10_CLASSES)"
   ]
  },
  {
   "cell_type": "code",
   "execution_count": 4,
   "metadata": {
    "collapsed": false,
    "scrolled": false
   },
   "outputs": [
    {
     "name": "stdout",
     "output_type": "stream",
     "text": [
      "(?, 32, 32, 128)\n",
      "(?, 16, 16, 128)\n",
      "(?, 16, 16, 128)\n",
      "(?, 8, 8, 128)\n",
      "(?, 8, 8, 128)\n",
      "(?, 4, 4, 128)\n",
      "(?, 4, 4, 128)\n",
      "(?, 2, 2, 128)\n",
      "(?, 2, 2, 128)\n",
      "(?, 1, 1, 128)\n"
     ]
    }
   ],
   "source": [
    "print(conv1.shape)\n",
    "print(maxpool1.shape)\n",
    "print(conv2.shape)\n",
    "print(maxpool2.shape)\n",
    "print(conv3.shape)\n",
    "print(maxpool3.shape)\n",
    "print(conv4.shape)\n",
    "print(maxpool4.shape)\n",
    "print(conv5.shape)\n",
    "print(maxpool5.shape)"
   ]
  },
  {
   "cell_type": "code",
   "execution_count": 5,
   "metadata": {
    "collapsed": false
   },
   "outputs": [
    {
     "name": "stdout",
     "output_type": "stream",
     "text": [
      "(?, 4096)\n",
      "(?, 4096)\n",
      "(?, 10)\n"
     ]
    }
   ],
   "source": [
    "print(dense1.shape)\n",
    "print(dense2.shape)\n",
    "print(output.shape)"
   ]
  }
 ],
 "metadata": {
  "anaconda-cloud": {},
  "kernelspec": {
   "display_name": "Python [conda env:python35]",
   "language": "python",
   "name": "conda-env-python35-py"
  },
  "language_info": {
   "codemirror_mode": {
    "name": "ipython",
    "version": 3
   },
   "file_extension": ".py",
   "mimetype": "text/x-python",
   "name": "python",
   "nbconvert_exporter": "python",
   "pygments_lexer": "ipython3",
   "version": "3.5.2"
  }
 },
 "nbformat": 4,
 "nbformat_minor": 1
}
