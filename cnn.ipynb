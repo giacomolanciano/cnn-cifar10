{
 "cells": [
  {
   "cell_type": "code",
   "execution_count": 1,
   "metadata": {
    "collapsed": true
   },
   "outputs": [],
   "source": [
    "import tensorflow as tf\n",
    "\n",
    "CIFAR10_CLASSES = 10\n",
    "CIFAR10_TRAIN_SIZE = 50000\n",
    "CIFAR10_TEST_SIZE = 10000\n",
    "\n",
    "EPOCHS = 1000\n",
    "BATCH_SIZE = 128\n",
    "KEEP_PROB_CONV = 0.8\n",
    "KEEP_PROB_DENSE = 0.5\n",
    "LEARNING_RATE = 0.01\n",
    "\n",
    "CONV_LAYER_PARAMS_1 = {\n",
    "    'filters': 48,\n",
    "    'kernel_size': (3, 3),\n",
    "    'strides': 1,\n",
    "    'activation': tf.nn.relu,\n",
    "    'padding': 'same'\n",
    "}\n",
    "\n",
    "CONV_LAYER_PARAMS_2 = {\n",
    "    'filters': 96,\n",
    "    'kernel_size': (3, 3),\n",
    "    'strides': 1,\n",
    "    'activation': tf.nn.relu,\n",
    "    'padding': 'same'\n",
    "}\n",
    "\n",
    "CONV_LAYER_PARAMS_3 = {\n",
    "    'filters': 192,\n",
    "    'kernel_size': (3, 3),\n",
    "    'strides': 1,\n",
    "    'activation': tf.nn.relu,\n",
    "    'padding': 'same'\n",
    "}\n",
    "\n",
    "MAXPOOL_LAYER_PARAMS = {\n",
    "    'pool_size': (2, 2),\n",
    "    'strides': 2,\n",
    "    'padding': 'same'\n",
    "}\n",
    "\n",
    "DENSE_LAYER_PARAMS_1 = {\n",
    "    'units': 512,\n",
    "    'activation': tf.nn.relu\n",
    "}\n",
    "\n",
    "DENSE_LAYER_PARAMS_2 = {\n",
    "    'units': 256,\n",
    "    'activation': tf.nn.relu\n",
    "}"
   ]
  },
  {
   "cell_type": "code",
   "execution_count": 2,
   "metadata": {
    "collapsed": false
   },
   "outputs": [],
   "source": [
    "global_step = tf.Variable(initial_value=0, name='global_step', trainable=False)\n",
    "X = tf.placeholder(tf.float32, [None, 32, 32, 3], name='input')\n",
    "y = tf.placeholder(tf.float32, [None, 10], name='labels')\n",
    "keep_prob_dense = tf.placeholder(tf.float32)\n",
    "keep_prob_conv = tf.placeholder(tf.float32)"
   ]
  },
  {
   "cell_type": "code",
   "execution_count": 3,
   "metadata": {
    "collapsed": false
   },
   "outputs": [],
   "source": [
    "# convolutional layers\n",
    "conv1 = tf.layers.conv2d(X, name='conv1', **CONV_LAYER_PARAMS_1)\n",
    "conv1_maxpool = tf.layers.max_pooling2d(conv1, name='conv1_maxpool', **MAXPOOL_LAYER_PARAMS)\n",
    "conv1_dropout = tf.nn.dropout(conv1_maxpool, name='conv1_dropout', keep_prob=keep_prob_conv)\n",
    "\n",
    "conv2 = tf.layers.conv2d(conv1_dropout, name='conv2', **CONV_LAYER_PARAMS_2)\n",
    "\n",
    "conv3 = tf.layers.conv2d(conv2, name='conv3', **CONV_LAYER_PARAMS_2)\n",
    "conv3_maxpool = tf.layers.max_pooling2d(conv3, name='conv3_maxpool', **MAXPOOL_LAYER_PARAMS)\n",
    "conv3_dropout = tf.nn.dropout(conv3_maxpool, name='conv3_dropout', keep_prob=keep_prob_conv)\n",
    "\n",
    "conv4 = tf.layers.conv2d(conv3_dropout, name='conv4', **CONV_LAYER_PARAMS_3)\n",
    "\n",
    "conv5 = tf.layers.conv2d(conv4, name='conv5', **CONV_LAYER_PARAMS_3)\n",
    "conv5_maxpool = tf.layers.max_pooling2d(conv5, name='conv5_maxpool', **MAXPOOL_LAYER_PARAMS)\n",
    "conv5_dropout = tf.nn.dropout(conv5_maxpool, name='conv5_dropout', keep_prob=keep_prob_conv)\n",
    "\n",
    "# fully-connected layers\n",
    "dense1 = tf.layers.dense(\n",
    "    tf.reshape(conv5_dropout, [-1, conv5_dropout.shape[1] * conv5_dropout.shape[2] * conv5_dropout.shape[3]]),\n",
    "    name='dense1', **DENSE_LAYER_PARAMS_1)\n",
    "dense1_dropout = tf.nn.dropout(dense1, name='dense1_dropout', keep_prob=keep_prob_dense)\n",
    "\n",
    "dense2 = tf.layers.dense(dense1_dropout, name='dense2', **DENSE_LAYER_PARAMS_2)\n",
    "dense2_dropout = tf.nn.dropout(dense2, name='dense2_dropout', keep_prob=keep_prob_dense)\n",
    "\n",
    "output = tf.layers.dense(dense2_dropout, name='output', units=CIFAR10_CLASSES)"
   ]
  },
  {
   "cell_type": "code",
   "execution_count": 4,
   "metadata": {
    "collapsed": false,
    "scrolled": false
   },
   "outputs": [
    {
     "name": "stdout",
     "output_type": "stream",
     "text": [
      "(?, 32, 32, 48)\n",
      "(?, 16, 16, 48)\n",
      "(?, 16, 16, 96)\n",
      "(?, 16, 16, 96)\n",
      "(?, 8, 8, 96)\n",
      "(?, 8, 8, 192)\n",
      "(?, 8, 8, 192)\n",
      "(?, 4, 4, 192)\n"
     ]
    }
   ],
   "source": [
    "print(conv1.shape)\n",
    "print(conv1_maxpool.shape)\n",
    "print(conv2.shape)\n",
    "#print(conv2_maxpool.shape)\n",
    "print(conv3.shape)\n",
    "print(conv3_maxpool.shape)\n",
    "print(conv4.shape)\n",
    "#print(conv4_maxpool.shape)\n",
    "print(conv5.shape)\n",
    "print(conv5_maxpool.shape)"
   ]
  },
  {
   "cell_type": "code",
   "execution_count": 5,
   "metadata": {
    "collapsed": false
   },
   "outputs": [
    {
     "name": "stdout",
     "output_type": "stream",
     "text": [
      "(?, 512)\n",
      "(?, 256)\n",
      "(?, 10)\n"
     ]
    }
   ],
   "source": [
    "print(dense1.shape)\n",
    "print(dense2.shape)\n",
    "print(output.shape)"
   ]
  }
 ],
 "metadata": {
  "anaconda-cloud": {},
  "kernelspec": {
   "display_name": "Python [conda env:python35]",
   "language": "python",
   "name": "conda-env-python35-py"
  },
  "language_info": {
   "codemirror_mode": {
    "name": "ipython",
    "version": 3
   },
   "file_extension": ".py",
   "mimetype": "text/x-python",
   "name": "python",
   "nbconvert_exporter": "python",
   "pygments_lexer": "ipython3",
   "version": "3.5.2"
  }
 },
 "nbformat": 4,
 "nbformat_minor": 1
}
