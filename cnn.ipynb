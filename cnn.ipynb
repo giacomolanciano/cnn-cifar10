{
 "cells": [
  {
   "cell_type": "code",
   "execution_count": 1,
   "metadata": {
    "collapsed": true
   },
   "outputs": [],
   "source": [
    "import tensorflow as tf\n",
    "CIFAR10_CLASSES = 10"
   ]
  },
  {
   "cell_type": "code",
   "execution_count": 2,
   "metadata": {
    "collapsed": false
   },
   "outputs": [],
   "source": [
    "global_step = tf.Variable(initial_value=0, name='global_step', trainable=False)\n",
    "X = tf.placeholder(tf.float32, [None, 32, 32, 3], name='input')\n",
    "y = tf.placeholder(tf.float32, [None, 10], name='labels')\n",
    "keep_prob = tf.placeholder(tf.float32)"
   ]
  },
  {
   "cell_type": "code",
   "execution_count": 3,
   "metadata": {
    "collapsed": false
   },
   "outputs": [],
   "source": [
    "# convolutional layers\n",
    "\n",
    "conv1 = tf.layers.conv2d(\n",
    "    X, filters=128, kernel_size=(5, 5), strides=1, activation=tf.nn.relu, padding='same', name='conv1')\n",
    "\n",
    "maxpool1 = tf.layers.max_pooling2d(conv1, pool_size=(2, 2), strides=2, padding='same', name='maxpool1')\n",
    "\n",
    "conv2 = tf.layers.conv2d(\n",
    "    maxpool1, filters=128, kernel_size=(5, 5), strides=1, activation=tf.nn.relu, padding='same', name='conv2')\n",
    "\n",
    "maxpool2 = tf.layers.max_pooling2d(conv2, pool_size=(2, 2), strides=2, padding='same', name='maxpool2')\n",
    "\n",
    "conv3 = tf.layers.conv2d(\n",
    "    maxpool2, filters=128, kernel_size=(5, 5), strides=1, activation=tf.nn.relu, padding='same', name='conv3')\n",
    "\n",
    "maxpool3 = tf.layers.max_pooling2d(conv3, pool_size=(2, 2), strides=2, padding='same', name='maxpool2')\n",
    "\n",
    "conv4 = tf.layers.conv2d(\n",
    "    maxpool3, filters=128, kernel_size=(5, 5), strides=1, activation=tf.nn.relu, padding='same', name='conv4')\n",
    "\n",
    "maxpool4 = tf.layers.max_pooling2d(conv4, pool_size=(2, 2), strides=2, padding='same', name='maxpool2')\n",
    "\n",
    "conv5 = tf.layers.conv2d(\n",
    "    maxpool4, filters=128, kernel_size=(5, 5), strides=1, activation=tf.nn.relu, padding='same', name='conv5')\n",
    "\n",
    "maxpool5 = tf.layers.max_pooling2d(conv5, pool_size=(2, 2), strides=2, padding='same', name='maxpool5')\n",
    "\n",
    "# fully connected layers\n",
    "\n",
    "dense1 = tf.layers.dense(\n",
    "    tf.reshape(maxpool5, [-1, 128]), units=4096, activation=tf.nn.relu, name='dense1')\n",
    "dense1_dropout = tf.nn.dropout(dense1, keep_prob=keep_prob, name='dense1_dropout')\n",
    "\n",
    "dense2 = tf.layers.dense(dense1_dropout, units=4096, activation=tf.nn.relu, name='dense2')\n",
    "dense2_dropout = tf.nn.dropout(dense2, keep_prob=keep_prob, name='dense2_dropout')\n",
    "\n",
    "output = tf.layers.dense(dense2_dropout, units=CIFAR10_CLASSES, name='output')"
   ]
  },
  {
   "cell_type": "code",
   "execution_count": 4,
   "metadata": {
    "collapsed": false,
    "scrolled": false
   },
   "outputs": [
    {
     "name": "stdout",
     "output_type": "stream",
     "text": [
      "(?, 32, 32, 128)\n",
      "(?, 16, 16, 128)\n",
      "(?, 16, 16, 128)\n",
      "(?, 8, 8, 128)\n",
      "(?, 8, 8, 128)\n",
      "(?, 4, 4, 128)\n",
      "(?, 4, 4, 128)\n",
      "(?, 2, 2, 128)\n",
      "(?, 2, 2, 128)\n",
      "(?, 1, 1, 128)\n"
     ]
    }
   ],
   "source": [
    "print(conv1.shape)\n",
    "print(maxpool1.shape)\n",
    "print(conv2.shape)\n",
    "print(maxpool2.shape)\n",
    "print(conv3.shape)\n",
    "print(maxpool3.shape)\n",
    "print(conv4.shape)\n",
    "print(maxpool4.shape)\n",
    "print(conv5.shape)\n",
    "print(maxpool5.shape)"
   ]
  },
  {
   "cell_type": "code",
   "execution_count": 5,
   "metadata": {
    "collapsed": false
   },
   "outputs": [
    {
     "name": "stdout",
     "output_type": "stream",
     "text": [
      "(?, 4096)\n",
      "(?, 4096)\n",
      "(?, 10)\n"
     ]
    }
   ],
   "source": [
    "print(dense1.shape)\n",
    "print(dense2.shape)\n",
    "print(output.shape)"
   ]
  }
 ],
 "metadata": {
  "anaconda-cloud": {},
  "kernelspec": {
   "display_name": "Python [conda env:python35]",
   "language": "python",
   "name": "conda-env-python35-py"
  },
  "language_info": {
   "codemirror_mode": {
    "name": "ipython",
    "version": 3
   },
   "file_extension": ".py",
   "mimetype": "text/x-python",
   "name": "python",
   "nbconvert_exporter": "python",
   "pygments_lexer": "ipython3",
   "version": "3.5.2"
  }
 },
 "nbformat": 4,
 "nbformat_minor": 1
}
